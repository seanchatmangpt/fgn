{
 "cells": [
  {
   "cell_type": "code",
   "execution_count": 2,
   "metadata": {
    "collapsed": true,
    "ExecuteTime": {
     "end_time": "2023-10-04T12:34:58.247071Z",
     "start_time": "2023-10-04T12:34:58.245108Z"
    }
   },
   "outputs": [],
   "source": [
    "import os\n",
    "import ast\n",
    "import importlib\n",
    "import importlib.util\n",
    "import sys\n",
    "\n",
    "\n",
    "\n",
    "\n",
    "class DynamicModuleModifier:\n",
    "    def __init__(self, filepath, source=None):\n",
    "        self.filepath = filepath\n",
    "        self._ensure_module_exists(source)\n",
    "        self.module = self._load_module()\n",
    "\n",
    "    def _ensure_module_exists(self, source):\n",
    "        if not os.path.exists(self.filepath):\n",
    "            with open(self.filepath, \"w\") as f:\n",
    "                if source:\n",
    "                    f.write(source)\n",
    "                else:\n",
    "                    f.write(\"# Auto-generated module\\n\")\n",
    "\n",
    "    def __getitem__(self, key):\n",
    "        return getattr(self.module, key)\n",
    "\n",
    "    def __setitem__(self, key, new_item):\n",
    "        # Read the existing code\n",
    "        with open(self.filepath, \"r\") as f:\n",
    "            old_code = f.read()\n",
    "        old_ast = ast.parse(old_code)\n",
    "\n",
    "        # Convert string to AST if necessary\n",
    "        if isinstance(new_item, str):\n",
    "            new_item_ast = ast.parse(new_item).body[0]\n",
    "        else:\n",
    "            new_item_ast = new_item\n",
    "\n",
    "        # Determine whether to replace an existing item or add a new one\n",
    "        if isinstance(new_item_ast, (ast.FunctionDef, ast.AsyncFunctionDef)):\n",
    "            existing_indices = [\n",
    "                i\n",
    "                for i, node in enumerate(old_ast.body)\n",
    "                if isinstance(node, (ast.FunctionDef, ast.AsyncFunctionDef))\n",
    "                and node.name == key\n",
    "            ]\n",
    "        elif isinstance(new_item_ast, ast.ClassDef):\n",
    "            existing_indices = [\n",
    "                i\n",
    "                for i, node in enumerate(old_ast.body)\n",
    "                if isinstance(node, ast.ClassDef) and node.name == key\n",
    "            ]\n",
    "        # Save values like dictonaries and lists to a file\n",
    "        elif isinstance(new_item_ast, ast.Assign):\n",
    "            existing_indices = [\n",
    "                i\n",
    "                for i, node in enumerate(old_ast.body)\n",
    "                if isinstance(node, ast.Assign) and node.targets[0].id == key\n",
    "            ]\n",
    "        else:\n",
    "            raise ValueError(\"The new item must be a function or class definition.\")\n",
    "\n",
    "        if existing_indices:\n",
    "            # Replace existing\n",
    "            old_ast.body[existing_indices[0]] = new_item_ast\n",
    "        else:\n",
    "            # Add new\n",
    "            old_ast.body.append(new_item_ast)\n",
    "\n",
    "        # Compile and execute the modified AST to update the module\n",
    "        new_code = compile(old_ast, filename=self.filepath, mode=\"exec\")\n",
    "        exec(new_code, self.module.__dict__)\n",
    "\n",
    "        # Write back the modified code to the file\n",
    "        with open(self.filepath, \"w\") as f:\n",
    "            f.write(ast.unparse(old_ast))\n",
    "\n",
    "    def _load_module(self):\n",
    "        module_name = self.filepath.replace(\".py\", \"\")\n",
    "        if module_name in sys.modules:\n",
    "            del sys.modules[module_name]\n",
    "\n",
    "        spec = importlib.util.spec_from_file_location(module_name, self.filepath)\n",
    "        module = importlib.util.module_from_spec(spec)\n",
    "        spec.loader.exec_module(module)\n",
    "        return module\n",
    "\n",
    "    def replace_module_content(self, new_content):\n",
    "        with open(self.filepath, \"w\") as f:\n",
    "            f.write(new_content)\n",
    "        self.module = self._load_module()"
   ]
  },
  {
   "cell_type": "code",
   "execution_count": 45,
   "outputs": [
    {
     "name": "stdout",
     "output_type": "stream",
     "text": [
      "This is the docstring for my_function.\n",
      "This is the modified docstring.\n"
     ]
    }
   ],
   "source": [
    "# test_code.py\n",
    "\n",
    "# Create the initial module file\n",
    "with open(\"my_module.py\", \"w\") as f:\n",
    "    f.write(\n",
    "        '''\n",
    "def my_function(x):\n",
    "    \"\"\"This is the docstring for my_function.\"\"\"\n",
    "    return x * 2\n",
    "'''\n",
    "    )\n",
    "\n",
    "# Initialize the DynamicModuleModifier\n",
    "module_modifier = DynamicModuleModifier(\"my_module.py\")\n",
    "\n",
    "# Test original function\n",
    "my_function = module_modifier[\"my_function\"]\n",
    "assert my_function(5) == 10\n",
    "assert my_function.__doc__ == \"This is the docstring for my_function.\"\n",
    "print(my_function.__doc__)\n",
    "\n",
    "# Modify the function using new AST\n",
    "new_function_ast = ast.parse(\n",
    "    '''\n",
    "def my_function(x):\n",
    "    \"\"\"This is the modified docstring.\"\"\"\n",
    "    return x * 3\n",
    "'''\n",
    ").body[0]\n",
    "\n",
    "module_modifier[\"my_function\"] = new_function_ast\n",
    "\n",
    "# Reload the module and test again\n",
    "module_modifier = DynamicModuleModifier(\"my_module.py\")\n",
    "my_function = module_modifier[\"my_function\"]\n",
    "assert my_function(5) == 15\n",
    "assert my_function.__doc__ == \"This is the modified docstring.\"\n",
    "print(my_function.__doc__)\n",
    "\n",
    "\n",
    "# Replace the entire module content and test\n",
    "new_module_content = '''\n",
    "def another_function(y):\n",
    "    \"\"\"New function after replacing module.\"\"\"\n",
    "    return y ** 2\n",
    "'''\n",
    "module_modifier.replace_module_content(new_module_content)\n",
    "\n",
    "# Reload the module and test the new function\n",
    "module_modifier = DynamicModuleModifier(\"my_module.py\")\n",
    "another_function = module_modifier[\"another_function\"]\n",
    "assert another_function(4) == 16\n",
    "assert another_function.__doc__ == \"New function after replacing module.\"\n",
    "\n",
    "\n",
    "new_class = '''\n",
    "class MyClass:\n",
    "    \"\"\"This is the docstring for MyClass.\"\"\"\n",
    "    def __init__(self, x):\n",
    "        \"\"\"This is the docstring for __init__.\"\"\"\n",
    "        self.x = x\n",
    "\n",
    "    def my_method(self, y):\n",
    "        \"\"\"This is the docstring for my_method.\"\"\"\n",
    "        return self.x + y\n",
    "'''\n",
    "module_modifier[\"MyClass\"] = new_class\n",
    "mm = module_modifier\n",
    "mm.test_dict = {\"a\": 1, \"b\": 2}"
   ],
   "metadata": {
    "collapsed": false,
    "ExecuteTime": {
     "end_time": "2023-10-04T16:48:41.705902Z",
     "start_time": "2023-10-04T16:48:41.684906Z"
    }
   }
  },
  {
   "cell_type": "code",
   "execution_count": 7,
   "outputs": [
    {
     "name": "stdout",
     "output_type": "stream",
     "text": [
      "def another_function(y):\n",
      "    \"\"\"New function after replacing module.\"\"\"\n",
      "    return y ** 2\n",
      "\n",
      "class MyClass:\n",
      "    \"\"\"This is the docstring for MyClass.\"\"\"\n",
      "\n",
      "    def __init__(self, x):\n",
      "        \"\"\"This is the docstring for __init__.\"\"\"\n",
      "        self.x = x\n",
      "\n",
      "    def my_method(self, y):\n",
      "        \"\"\"This is the docstring for my_method.\"\"\"\n",
      "        return self.x + y\n"
     ]
    }
   ],
   "source": [
    "# print my_module.py\n",
    "print(open(\"my_module.py\").read())"
   ],
   "metadata": {
    "collapsed": false,
    "ExecuteTime": {
     "end_time": "2023-10-04T12:35:35.082044Z",
     "start_time": "2023-10-04T12:35:35.077876Z"
    }
   }
  },
  {
   "cell_type": "code",
   "execution_count": 40,
   "outputs": [
    {
     "data": {
      "text/plain": "16"
     },
     "execution_count": 40,
     "metadata": {},
     "output_type": "execute_result"
    }
   ],
   "source": [
    "mm = module_modifier\n",
    "mm.module\n",
    "\n",
    "# show mm.module contents without using the file\n",
    "mm.module.another_function(4)"
   ],
   "metadata": {
    "collapsed": false,
    "ExecuteTime": {
     "end_time": "2023-10-03T19:46:45.348220Z",
     "start_time": "2023-10-03T19:46:45.341363Z"
    }
   }
  },
  {
   "cell_type": "code",
   "execution_count": 43,
   "outputs": [
    {
     "data": {
      "text/plain": "<module 'new_module' from '/Users/candacechatman/new_module.py'>"
     },
     "execution_count": 43,
     "metadata": {},
     "output_type": "execute_result"
    }
   ],
   "source": [
    "dmm = DynamicModuleModifier\n",
    "initial_source = '''\n",
    "def my_function(x):\n",
    "    \"\"\"This is the docstring for my_function.\"\"\"\n",
    "    return x * 2\n",
    "'''\n",
    "mm = dmm(\"new_module.py\", initial_source)\n",
    "mm.module"
   ],
   "metadata": {
    "collapsed": false,
    "ExecuteTime": {
     "end_time": "2023-10-03T19:48:00.704503Z",
     "start_time": "2023-10-03T19:48:00.677454Z"
    }
   }
  },
  {
   "cell_type": "code",
   "execution_count": 59,
   "outputs": [
    {
     "ename": "AssertionError",
     "evalue": "Module should have load_schema",
     "output_type": "error",
     "traceback": [
      "\u001B[0;31m---------------------------------------------------------------------------\u001B[0m",
      "\u001B[0;31mAssertionError\u001B[0m                            Traceback (most recent call last)",
      "Cell \u001B[0;32mIn[59], line 30\u001B[0m\n\u001B[1;32m     28\u001B[0m load_schema_ast \u001B[38;5;241m=\u001B[39m ast\u001B[38;5;241m.\u001B[39mparse(load_schema_code)\u001B[38;5;241m.\u001B[39mbody[\u001B[38;5;241m0\u001B[39m]\n\u001B[1;32m     29\u001B[0m dmm[\u001B[38;5;124m'\u001B[39m\u001B[38;5;124mload_schema\u001B[39m\u001B[38;5;124m'\u001B[39m] \u001B[38;5;241m=\u001B[39m load_schema_ast\n\u001B[0;32m---> 30\u001B[0m \u001B[38;5;28;01massert\u001B[39;00m \u001B[38;5;28mhasattr\u001B[39m(dmm\u001B[38;5;241m.\u001B[39mmodule, \u001B[38;5;124m'\u001B[39m\u001B[38;5;124mload_schema\u001B[39m\u001B[38;5;124m'\u001B[39m), \u001B[38;5;124m\"\u001B[39m\u001B[38;5;124mModule should have load_schema\u001B[39m\u001B[38;5;124m\"\u001B[39m\n\u001B[1;32m     32\u001B[0m \u001B[38;5;66;03m# Add another function and verify\u001B[39;00m\n\u001B[1;32m     33\u001B[0m save_schema_code \u001B[38;5;241m=\u001B[39m \u001B[38;5;124m'''\u001B[39m\n\u001B[1;32m     34\u001B[0m \u001B[38;5;124mdef save_schema(schema: dict, file_path: str = \u001B[39m\u001B[38;5;124m'\u001B[39m\u001B[38;5;124mbounded_context.yaml\u001B[39m\u001B[38;5;124m'\u001B[39m\u001B[38;5;124m) -> None:\u001B[39m\n\u001B[1;32m     35\u001B[0m \u001B[38;5;124m    with open(file_path, \u001B[39m\u001B[38;5;124m'\u001B[39m\u001B[38;5;124mw\u001B[39m\u001B[38;5;124m'\u001B[39m\u001B[38;5;124m) as file:\u001B[39m\n\u001B[1;32m     36\u001B[0m \u001B[38;5;124m        yaml.safe_dump(schema, file)\u001B[39m\n\u001B[1;32m     37\u001B[0m \u001B[38;5;124m'''\u001B[39m\n",
      "\u001B[0;31mAssertionError\u001B[0m: Module should have load_schema"
     ]
    }
   ],
   "source": [
    "# Initialize DynamicModuleModifier and test to ensure correct behavior\n",
    "dmm = DynamicModuleModifier(\"AgentSystem.py\")\n",
    "assert (\n",
    "    hasattr(dmm.module, \"argparse\") == False\n",
    "), \"Initial module should not have argparse\"\n",
    "\n",
    "# Define our initial source code, ensuring its existence and load into our DynamicModuleModifier\n",
    "initial_source = \"\"\"\n",
    "import argparse\n",
    "import openai\n",
    "import yaml\n",
    "import os\n",
    "import time\n",
    "import json\n",
    "from typing import List\n",
    "import re\n",
    "\"\"\"\n",
    "\n",
    "dmm.replace_module_content(initial_source)\n",
    "assert hasattr(\n",
    "    dmm.module, \"argparse\"\n",
    "), \"Module should have argparse after initial source\"\n",
    "\n",
    "# Add more code to the module and verify\n",
    "load_schema_code = \"\"\"\n",
    "def load_schema(file_path: str = 'bounded_context.yaml') -> dict:\n",
    "    if os.path.exists(file_path):\n",
    "        with open(file_path, 'r') as file:\n",
    "            return yaml.safe_load(file)\n",
    "    return {}\n",
    "\"\"\"\n",
    "load_schema_ast = ast.parse(load_schema_code).body[0]\n",
    "dmm[\"load_schema\"] = load_schema_ast\n",
    "assert hasattr(dmm.module, \"load_schema\"), \"Module should have load_schema\"\n",
    "\n",
    "# Add another function and verify\n",
    "save_schema_code = \"\"\"\n",
    "def save_schema(schema: dict, file_path: str = 'bounded_context.yaml') -> None:\n",
    "    with open(file_path, 'w') as file:\n",
    "        yaml.safe_dump(schema, file)\n",
    "\"\"\"\n",
    "save_schema_ast = ast.parse(save_schema_code).body[0]\n",
    "dmm[\"save_schema\"] = save_schema_ast\n",
    "assert hasattr(dmm.module, \"save_schema\"), \"Module should have save_schema\"\n",
    "\n",
    "# Add the closed-loop agent system and verify\n",
    "closed_loop_agent_system_code = \"\"\"\n",
    "def closed_loop_agent_system(num_iterations: int, delay: int) -> None:\n",
    "    schema = load_schema()\n",
    "    for _ in range(num_iterations):\n",
    "        time.sleep(delay)\n",
    "\"\"\"\n",
    "\n",
    "closed_loop_agent_system_ast = ast.parse(closed_loop_agent_system_code).body[0]\n",
    "dmm[\"closed_loop_agent_system\"] = closed_loop_agent_system_ast\n",
    "assert hasattr(\n",
    "    dmm.module, \"closed_loop_agent_system\"\n",
    "), \"Module should have closed_loop_agent_system\"\n",
    "\n",
    "# Verify the module code is as expected\n",
    "with open(\"AgentSystem.py\", \"r\") as f:\n",
    "    code = f.read()\n",
    "\n",
    "assert \"argparse\" in code, \"The code must contain argparse\"\n",
    "assert \"load_schema\" in code, \"The code must contain load_schema\"\n",
    "assert \"save_schema\" in code, \"The code must contain save_schema\"\n",
    "assert (\n",
    "    \"closed_loop_agent_system\" in code\n",
    "), \"The code must contain closed_loop_agent_system\"\n",
    "\n",
    "print(\"All assertions passed. AgentSystem.py has been successfully modified.\")"
   ],
   "metadata": {
    "collapsed": false,
    "ExecuteTime": {
     "end_time": "2023-10-03T20:06:40.612840Z",
     "start_time": "2023-10-03T20:06:40.575712Z"
    }
   }
  },
  {
   "cell_type": "code",
   "execution_count": 25,
   "outputs": [
    {
     "name": "stdout",
     "output_type": "stream",
     "text": [
      "Collecting redbaron\r\n",
      "  Using cached redbaron-0.9.2-py2.py3-none-any.whl (34 kB)\r\n",
      "Requirement already satisfied: baron>=0.7 in /Users/candacechatman/.pyenv/versions/miniforge3-latest/lib/python3.10/site-packages (from redbaron) (0.10.1)\r\n",
      "Requirement already satisfied: rply in /Users/candacechatman/.pyenv/versions/miniforge3-latest/lib/python3.10/site-packages (from baron>=0.7->redbaron) (0.7.8)\r\n",
      "Requirement already satisfied: appdirs in /Users/candacechatman/.pyenv/versions/miniforge3-latest/lib/python3.10/site-packages (from rply->baron>=0.7->redbaron) (1.4.4)\r\n",
      "Installing collected packages: redbaron\r\n",
      "Successfully installed redbaron-0.9.2\r\n"
     ]
    }
   ],
   "source": [
    "!pip install  redbaron"
   ],
   "metadata": {
    "collapsed": false,
    "ExecuteTime": {
     "end_time": "2023-10-04T16:44:02.700010Z",
     "start_time": "2023-10-04T16:44:01.161922Z"
    }
   }
  },
  {
   "cell_type": "code",
   "execution_count": 48,
   "outputs": [],
   "source": [
    "import os\n",
    "import importlib.util\n",
    "from redbaron import RedBaron\n",
    "\n",
    "class Peq:\n",
    "    def __init__(self, filepath, source=None, use_git=False):\n",
    "        self.filepath = filepath\n",
    "        if not os.path.exists(filepath):\n",
    "            with open(filepath, \"w\") as f:\n",
    "                content = source if source else \"# Auto-generated module\\n\"\n",
    "                f.write(content)\n",
    "\n",
    "        with open(filepath, 'r') as f:\n",
    "            self.redbaron_module = RedBaron(f.read())\n",
    "\n",
    "        self.history = [self.redbaron_module.dumps()]\n",
    "        self.current_state = 0\n",
    "\n",
    "    def _update_module_content(self, content):\n",
    "        with open(self.filepath, 'w') as f:\n",
    "            f.write(content)\n",
    "\n",
    "    def __setattr__(self, name, value):\n",
    "        if name in [\"filepath\", \"redbaron_module\", \"history\", \"current_state\"]:\n",
    "            super().__setattr__(name, value)\n",
    "            return\n",
    "\n",
    "        if isinstance(value, str):\n",
    "            # If it's a string, it's assumed to be code. Use RedBaron to add it to the module.\n",
    "            self.redbaron_module.insert(0, value)\n",
    "        else:\n",
    "            # If not a string, it's assumed to be a function/class/variable. Convert it to string and then add.\n",
    "            self.redbaron_module.insert(0, RedBaron(value.__repr__()))\n",
    "\n",
    "        self._update_module_content(self.redbaron_module.dumps())\n",
    "\n",
    "    def __getattr__(self, name):\n",
    "        # Return the function or class from the RedBaron module if it exists\n",
    "        found = [node for node in self.redbaron_module.find_all('name', lambda n: n.value == name)]\n",
    "        if found:\n",
    "            return found[0].parent.value.to_python()\n",
    "        raise AttributeError(f\"'{type(self).__name__}' object has no attribute '{name}'\")\n",
    "\n",
    "    def delete_entity(self, name):\n",
    "        nodes_to_delete = self.redbaron_module.find_all('name', lambda n: n.value == name)\n",
    "        for node in nodes_to_delete:\n",
    "            node.parent.parent.value.pop(node.parent.index_on_parent)\n",
    "\n",
    "        self._update_module_content(self.redbaron_module.dumps())\n",
    "\n",
    "    def undo(self):\n",
    "        if self.current_state > 0:\n",
    "            self.current_state -= 1\n",
    "            content = self.history[self.current_state]\n",
    "            self._update_module_content(content)\n",
    "            self.redbaron_module = RedBaron(content)\n",
    "\n",
    "    def redo(self):\n",
    "        if self.current_state < len(self.history) - 1:\n",
    "            self.current_state += 1\n",
    "            content = self.history[self.current_state]\n",
    "            self._update_module_content(content)\n",
    "            self.redbaron_module = RedBaron(content)\n",
    "\n"
   ],
   "metadata": {
    "collapsed": false,
    "ExecuteTime": {
     "end_time": "2023-10-04T16:49:18.769480Z",
     "start_time": "2023-10-04T16:49:18.767626Z"
    }
   }
  },
  {
   "cell_type": "code",
   "execution_count": 49,
   "outputs": [],
   "source": [
    "peq = Peq('sample_module.py')\n",
    "peq.my_function = \"\"\"\n",
    "def my_function():\n",
    "    return \"Hello, World!\"\n",
    "\"\"\""
   ],
   "metadata": {
    "collapsed": false,
    "ExecuteTime": {
     "end_time": "2023-10-04T16:49:18.981923Z",
     "start_time": "2023-10-04T16:49:18.978708Z"
    }
   }
  },
  {
   "cell_type": "code",
   "execution_count": 44,
   "outputs": [
    {
     "ename": "AttributeError",
     "evalue": "'Peq' object has no attribute 'my_function'",
     "output_type": "error",
     "traceback": [
      "\u001B[0;31m---------------------------------------------------------------------------\u001B[0m",
      "\u001B[0;31mAttributeError\u001B[0m                            Traceback (most recent call last)",
      "Cell \u001B[0;32mIn[44], line 1\u001B[0m\n\u001B[0;32m----> 1\u001B[0m \u001B[43mpeq\u001B[49m\u001B[38;5;241;43m.\u001B[39;49m\u001B[43mmy_function\u001B[49m()\n",
      "Cell \u001B[0;32mIn[42], line 43\u001B[0m, in \u001B[0;36mPeq.__getattr__\u001B[0;34m(self, name)\u001B[0m\n\u001B[1;32m     41\u001B[0m \u001B[38;5;28;01mif\u001B[39;00m found:\n\u001B[1;32m     42\u001B[0m     \u001B[38;5;28;01mreturn\u001B[39;00m found[\u001B[38;5;241m0\u001B[39m]\u001B[38;5;241m.\u001B[39mparent\u001B[38;5;241m.\u001B[39mvalue\u001B[38;5;241m.\u001B[39mto_python()\n\u001B[0;32m---> 43\u001B[0m \u001B[38;5;28;01mraise\u001B[39;00m \u001B[38;5;167;01mAttributeError\u001B[39;00m(\u001B[38;5;124mf\u001B[39m\u001B[38;5;124m\"\u001B[39m\u001B[38;5;124m'\u001B[39m\u001B[38;5;132;01m{\u001B[39;00m\u001B[38;5;28mtype\u001B[39m(\u001B[38;5;28mself\u001B[39m)\u001B[38;5;241m.\u001B[39m\u001B[38;5;18m__name__\u001B[39m\u001B[38;5;132;01m}\u001B[39;00m\u001B[38;5;124m'\u001B[39m\u001B[38;5;124m object has no attribute \u001B[39m\u001B[38;5;124m'\u001B[39m\u001B[38;5;132;01m{\u001B[39;00mname\u001B[38;5;132;01m}\u001B[39;00m\u001B[38;5;124m'\u001B[39m\u001B[38;5;124m\"\u001B[39m)\n",
      "\u001B[0;31mAttributeError\u001B[0m: 'Peq' object has no attribute 'my_function'"
     ]
    }
   ],
   "source": [
    "peq.my_function()"
   ],
   "metadata": {
    "collapsed": false,
    "ExecuteTime": {
     "end_time": "2023-10-04T16:47:17.258702Z",
     "start_time": "2023-10-04T16:47:17.241040Z"
    }
   }
  },
  {
   "cell_type": "code",
   "execution_count": 50,
   "outputs": [
    {
     "ename": "IndentationError",
     "evalue": "expected an indented block after 'else' statement on line 70 (2491189663.py, line 76)",
     "output_type": "error",
     "traceback": [
      "\u001B[0;36m  Cell \u001B[0;32mIn[50], line 76\u001B[0;36m\u001B[0m\n\u001B[0;31m    def _add_or_replace_function_or_class(self):\u001B[0m\n\u001B[0m    ^\u001B[0m\n\u001B[0;31mIndentationError\u001B[0m\u001B[0;31m:\u001B[0m expected an indented block after 'else' statement on line 70\n"
     ]
    }
   ],
   "source": [
    "import importlib.util\n",
    "import os\n",
    "\n",
    "\n",
    "class Peq:\n",
    "    def __init__(self, filepath, source=None, use_git=False):\n",
    "        self.filepath = filepath\n",
    "        self.module = None  # Placeholder for the module type\n",
    "        self.history = []\n",
    "        self.current_state = (\n",
    "            -1\n",
    "        )  # We'll increment this whenever a new state is added to history\n",
    "        self.templates = {}\n",
    "\n",
    "        self._ensure_module_exists(source)\n",
    "        self._load_module()\n",
    "        self._capture_state()\n",
    "\n",
    "    def _ensure_module_exists(self, source):\n",
    "        if not os.path.exists(self.filepath):\n",
    "            with open(self.filepath, \"w\") as f:\n",
    "                content = source if source else \"# Auto-generated module\\n\"\n",
    "                f.write(content)\n",
    "\n",
    "    def _load_module(self):\n",
    "        module_name = self.filepath.replace(\".py\", \"\")\n",
    "        spec = importlib.util.spec_from_file_location(module_name, self.filepath)\n",
    "        self.module = importlib.util.module_from_spec(spec)\n",
    "        spec.loader.exec_module(self.module)\n",
    "\n",
    "    def _capture_state(self):\n",
    "        with open(self.filepath, \"r\") as f:\n",
    "            current_content = f.read()\n",
    "        self.history.append(current_content)\n",
    "        self.current_state += 1\n",
    "\n",
    "    def __setattr__(self, name, value):\n",
    "        \"\"\"\n",
    "        Override the default behavior of attribute setting to handle dynamic module modification.\n",
    "\n",
    "        This method handles various cases to dynamically modify the underlying Python module:\n",
    "        1. If the attribute name corresponds to an internal attribute (e.g., _filepath, _redbaron_module),\n",
    "           it simply sets the attribute using the base class's `__setattr__` method.\n",
    "        2. If the value is a string, it is treated as Python source code. The method checks if the\n",
    "           module already contains a function or variable with the specified name:\n",
    "           a. If the function or variable exists, it is replaced with the new source code.\n",
    "           b. If it does not exist, the new source code is appended to the module.\n",
    "        3. For other types of values (e.g., integers, lists, custom objects),\n",
    "           the attribute is set using the base class's `__setattr__` method.\n",
    "\n",
    "        After modifying the RedBaron module object, the changes are saved back to the file.\n",
    "\n",
    "        Parameters:\n",
    "        - name (str): The name of the attribute being set.\n",
    "        - value (Any): The value to set for the attribute. If a string, it's treated as Python source code.\n",
    "\n",
    "        Note:\n",
    "        It's recommended that any source code strings provided as values be syntactically valid,\n",
    "        as the method does not perform deep syntax checking or validation.\n",
    "        \"\"\"\n",
    "        if name in super.__dict__:\n",
    "            super().__setattr__(name, value)\n",
    "            return\n",
    "\n",
    "        if isinstance(value, str):\n",
    "            # Check if the string if is is a definition, assignment, or expression\n",
    "            if value.startswith(\"def \") or value.startswith(\"class \"):\n",
    "                # If it's a function or class definition, use RedBaron to add it to the module\n",
    "                self._add_or_replace_function_or_class_str(value)\n",
    "        else:\n",
    "            # If not a string, it's assumed to be a function/class/variable. Convert it using redbaron and then add.\n",
    "            self._add_or_replace_function_or_class(value)\n",
    "\n",
    "    def _add_or_replace_function_or_class(self, name, value):\n",
    "\n",
    "\n"
   ],
   "metadata": {
    "collapsed": false
   }
  },
  {
   "cell_type": "code",
   "execution_count": 56,
   "outputs": [
    {
     "ename": "TypeError",
     "evalue": "dataclass_transform() got an unexpected keyword argument 'field_specifiers'",
     "output_type": "error",
     "traceback": [
      "\u001B[0;31m---------------------------------------------------------------------------\u001B[0m",
      "\u001B[0;31mTypeError\u001B[0m                                 Traceback (most recent call last)",
      "Cell \u001B[0;32mIn[56], line 1\u001B[0m\n\u001B[0;32m----> 1\u001B[0m \u001B[38;5;28;01mfrom\u001B[39;00m \u001B[38;5;21;01mfgn\u001B[39;00m\u001B[38;5;21;01m.\u001B[39;00m\u001B[38;5;21;01mcompletion\u001B[39;00m \u001B[38;5;28;01mimport\u001B[39;00m chat\n",
      "File \u001B[0;32m~/.pyenv/versions/miniforge3-latest/lib/python3.10/site-packages/fgn/completion/chat.py:12\u001B[0m\n\u001B[1;32m      9\u001B[0m \u001B[38;5;28;01mfrom\u001B[39;00m \u001B[38;5;21;01mloguru\u001B[39;00m \u001B[38;5;28;01mimport\u001B[39;00m logger\n\u001B[1;32m     11\u001B[0m \u001B[38;5;28;01mfrom\u001B[39;00m \u001B[38;5;21;01mfgn\u001B[39;00m\u001B[38;5;21;01m.\u001B[39;00m\u001B[38;5;21;01mcompletion\u001B[39;00m\u001B[38;5;21;01m.\u001B[39;00m\u001B[38;5;21;01mprompt_schemas\u001B[39;00m \u001B[38;5;28;01mimport\u001B[39;00m \u001B[38;5;241m*\u001B[39m\n\u001B[0;32m---> 12\u001B[0m \u001B[38;5;28;01mfrom\u001B[39;00m \u001B[38;5;21;01mfgn\u001B[39;00m\u001B[38;5;21;01m.\u001B[39;00m\u001B[38;5;21;01mutils\u001B[39;00m\u001B[38;5;21;01m.\u001B[39;00m\u001B[38;5;21;01mllm_operations\u001B[39;00m \u001B[38;5;28;01mimport\u001B[39;00m generate_filename\n\u001B[1;32m     13\u001B[0m \u001B[38;5;28;01mfrom\u001B[39;00m \u001B[38;5;21;01mfgn\u001B[39;00m\u001B[38;5;21;01m.\u001B[39;00m\u001B[38;5;21;01mutils\u001B[39;00m\u001B[38;5;21;01m.\u001B[39;00m\u001B[38;5;21;01mllama_llm\u001B[39;00m \u001B[38;5;28;01mimport\u001B[39;00m LocalLlamaClient\n\u001B[1;32m     16\u001B[0m DEFAULT_PROMPT \u001B[38;5;241m=\u001B[39m \u001B[38;5;124m\"\u001B[39m\u001B[38;5;124m\"\u001B[39m\n",
      "File \u001B[0;32m~/.pyenv/versions/miniforge3-latest/lib/python3.10/site-packages/fgn/utils/llm_operations.py:14\u001B[0m\n\u001B[1;32m     11\u001B[0m \u001B[38;5;28;01mfrom\u001B[39;00m \u001B[38;5;21;01mrich\u001B[39;00m \u001B[38;5;28;01mimport\u001B[39;00m \u001B[38;5;28mprint\u001B[39m\n\u001B[1;32m     13\u001B[0m \u001B[38;5;28;01mfrom\u001B[39;00m \u001B[38;5;21;01mfgn\u001B[39;00m\u001B[38;5;21;01m.\u001B[39;00m\u001B[38;5;21;01mutils\u001B[39;00m\u001B[38;5;21;01m.\u001B[39;00m\u001B[38;5;21;01mfile_operations\u001B[39;00m \u001B[38;5;28;01mimport\u001B[39;00m open_file, save_to_project_folder\n\u001B[0;32m---> 14\u001B[0m \u001B[38;5;28;01mfrom\u001B[39;00m \u001B[38;5;21;01m.\u001B[39;00m\u001B[38;5;21;01mllama_llm\u001B[39;00m \u001B[38;5;28;01mimport\u001B[39;00m LocalLlamaClient\n\u001B[1;32m     16\u001B[0m openai\u001B[38;5;241m.\u001B[39mapi_key \u001B[38;5;241m=\u001B[39m os\u001B[38;5;241m.\u001B[39menviron[\u001B[38;5;124m\"\u001B[39m\u001B[38;5;124mOPENAI_API_KEY\u001B[39m\u001B[38;5;124m\"\u001B[39m]\n\u001B[1;32m     19\u001B[0m \u001B[38;5;28;01mdef\u001B[39;00m \u001B[38;5;21msave_completion\u001B[39m(prompt):\n",
      "File \u001B[0;32m~/.pyenv/versions/miniforge3-latest/lib/python3.10/site-packages/fgn/utils/llama_llm.py:21\u001B[0m\n\u001B[1;32m     17\u001B[0m DEFAULT_N_FLAG \u001B[38;5;241m=\u001B[39m \u001B[38;5;241m-\u001B[39m\u001B[38;5;241m1\u001B[39m\n\u001B[1;32m     19\u001B[0m \u001B[38;5;28;01mfrom\u001B[39;00m \u001B[38;5;21;01mtyping\u001B[39;00m \u001B[38;5;28;01mimport\u001B[39;00m Any, List, Mapping, Optional\n\u001B[0;32m---> 21\u001B[0m \u001B[38;5;28;01mfrom\u001B[39;00m \u001B[38;5;21;01mlangchain\u001B[39;00m\u001B[38;5;21;01m.\u001B[39;00m\u001B[38;5;21;01mcallbacks\u001B[39;00m\u001B[38;5;21;01m.\u001B[39;00m\u001B[38;5;21;01mmanager\u001B[39;00m \u001B[38;5;28;01mimport\u001B[39;00m CallbackManagerForLLMRun\n\u001B[1;32m     22\u001B[0m \u001B[38;5;28;01mfrom\u001B[39;00m \u001B[38;5;21;01mlangchain\u001B[39;00m\u001B[38;5;21;01m.\u001B[39;00m\u001B[38;5;21;01mllms\u001B[39;00m\u001B[38;5;21;01m.\u001B[39;00m\u001B[38;5;21;01mbase\u001B[39;00m \u001B[38;5;28;01mimport\u001B[39;00m LLM\n\u001B[1;32m     25\u001B[0m \u001B[38;5;28;01mclass\u001B[39;00m \u001B[38;5;21;01mLocalLLM\u001B[39;00m(LLM):\n",
      "File \u001B[0;32m~/.pyenv/versions/miniforge3-latest/lib/python3.10/site-packages/langchain/__init__.py:6\u001B[0m\n\u001B[1;32m      3\u001B[0m \u001B[38;5;28;01mfrom\u001B[39;00m \u001B[38;5;21;01mimportlib\u001B[39;00m \u001B[38;5;28;01mimport\u001B[39;00m metadata\n\u001B[1;32m      4\u001B[0m \u001B[38;5;28;01mfrom\u001B[39;00m \u001B[38;5;21;01mtyping\u001B[39;00m \u001B[38;5;28;01mimport\u001B[39;00m Optional\n\u001B[0;32m----> 6\u001B[0m \u001B[38;5;28;01mfrom\u001B[39;00m \u001B[38;5;21;01mlangchain\u001B[39;00m\u001B[38;5;21;01m.\u001B[39;00m\u001B[38;5;21;01magents\u001B[39;00m \u001B[38;5;28;01mimport\u001B[39;00m MRKLChain, ReActChain, SelfAskWithSearchChain\n\u001B[1;32m      7\u001B[0m \u001B[38;5;28;01mfrom\u001B[39;00m \u001B[38;5;21;01mlangchain\u001B[39;00m\u001B[38;5;21;01m.\u001B[39;00m\u001B[38;5;21;01mcache\u001B[39;00m \u001B[38;5;28;01mimport\u001B[39;00m BaseCache\n\u001B[1;32m      8\u001B[0m \u001B[38;5;28;01mfrom\u001B[39;00m \u001B[38;5;21;01mlangchain\u001B[39;00m\u001B[38;5;21;01m.\u001B[39;00m\u001B[38;5;21;01mchains\u001B[39;00m \u001B[38;5;28;01mimport\u001B[39;00m (\n\u001B[1;32m      9\u001B[0m     ConversationChain,\n\u001B[1;32m     10\u001B[0m     LLMBashChain,\n\u001B[0;32m   (...)\u001B[0m\n\u001B[1;32m     18\u001B[0m     VectorDBQAWithSourcesChain,\n\u001B[1;32m     19\u001B[0m )\n",
      "File \u001B[0;32m~/.pyenv/versions/miniforge3-latest/lib/python3.10/site-packages/langchain/agents/__init__.py:2\u001B[0m\n\u001B[1;32m      1\u001B[0m \u001B[38;5;124;03m\"\"\"Interface for agents.\"\"\"\u001B[39;00m\n\u001B[0;32m----> 2\u001B[0m \u001B[38;5;28;01mfrom\u001B[39;00m \u001B[38;5;21;01mlangchain\u001B[39;00m\u001B[38;5;21;01m.\u001B[39;00m\u001B[38;5;21;01magents\u001B[39;00m\u001B[38;5;21;01m.\u001B[39;00m\u001B[38;5;21;01magent\u001B[39;00m \u001B[38;5;28;01mimport\u001B[39;00m (\n\u001B[1;32m      3\u001B[0m     Agent,\n\u001B[1;32m      4\u001B[0m     AgentExecutor,\n\u001B[1;32m      5\u001B[0m     AgentOutputParser,\n\u001B[1;32m      6\u001B[0m     BaseMultiActionAgent,\n\u001B[1;32m      7\u001B[0m     BaseSingleActionAgent,\n\u001B[1;32m      8\u001B[0m     LLMSingleActionAgent,\n\u001B[1;32m      9\u001B[0m )\n\u001B[1;32m     10\u001B[0m \u001B[38;5;28;01mfrom\u001B[39;00m \u001B[38;5;21;01mlangchain\u001B[39;00m\u001B[38;5;21;01m.\u001B[39;00m\u001B[38;5;21;01magents\u001B[39;00m\u001B[38;5;21;01m.\u001B[39;00m\u001B[38;5;21;01magent_iterator\u001B[39;00m \u001B[38;5;28;01mimport\u001B[39;00m AgentExecutorIterator\n\u001B[1;32m     11\u001B[0m \u001B[38;5;28;01mfrom\u001B[39;00m \u001B[38;5;21;01mlangchain\u001B[39;00m\u001B[38;5;21;01m.\u001B[39;00m\u001B[38;5;21;01magents\u001B[39;00m\u001B[38;5;21;01m.\u001B[39;00m\u001B[38;5;21;01magent_toolkits\u001B[39;00m \u001B[38;5;28;01mimport\u001B[39;00m (\n\u001B[1;32m     12\u001B[0m     create_csv_agent,\n\u001B[1;32m     13\u001B[0m     create_json_agent,\n\u001B[0;32m   (...)\u001B[0m\n\u001B[1;32m     23\u001B[0m     create_xorbits_agent,\n\u001B[1;32m     24\u001B[0m )\n",
      "File \u001B[0;32m~/.pyenv/versions/miniforge3-latest/lib/python3.10/site-packages/langchain/agents/agent.py:13\u001B[0m\n\u001B[1;32m     10\u001B[0m \u001B[38;5;28;01mfrom\u001B[39;00m \u001B[38;5;21;01mtyping\u001B[39;00m \u001B[38;5;28;01mimport\u001B[39;00m Any, Callable, Dict, List, Optional, Sequence, Tuple, Union\n\u001B[1;32m     12\u001B[0m \u001B[38;5;28;01mimport\u001B[39;00m \u001B[38;5;21;01myaml\u001B[39;00m\n\u001B[0;32m---> 13\u001B[0m \u001B[38;5;28;01mfrom\u001B[39;00m \u001B[38;5;21;01mpydantic\u001B[39;00m \u001B[38;5;28;01mimport\u001B[39;00m BaseModel, root_validator\n\u001B[1;32m     15\u001B[0m \u001B[38;5;28;01mfrom\u001B[39;00m \u001B[38;5;21;01mlangchain\u001B[39;00m\u001B[38;5;21;01m.\u001B[39;00m\u001B[38;5;21;01magents\u001B[39;00m\u001B[38;5;21;01m.\u001B[39;00m\u001B[38;5;21;01magent_iterator\u001B[39;00m \u001B[38;5;28;01mimport\u001B[39;00m AgentExecutorIterator\n\u001B[1;32m     16\u001B[0m \u001B[38;5;28;01mfrom\u001B[39;00m \u001B[38;5;21;01mlangchain\u001B[39;00m\u001B[38;5;21;01m.\u001B[39;00m\u001B[38;5;21;01magents\u001B[39;00m\u001B[38;5;21;01m.\u001B[39;00m\u001B[38;5;21;01magent_types\u001B[39;00m \u001B[38;5;28;01mimport\u001B[39;00m AgentType\n",
      "File \u001B[0;32m~/.pyenv/versions/miniforge3-latest/lib/python3.10/site-packages/pydantic/__init__.py:2\u001B[0m, in \u001B[0;36minit pydantic.__init__\u001B[0;34m()\u001B[0m\n",
      "File \u001B[0;32m~/.pyenv/versions/miniforge3-latest/lib/python3.10/site-packages/pydantic/dataclasses.py:48\u001B[0m, in \u001B[0;36minit pydantic.dataclasses\u001B[0;34m()\u001B[0m\n",
      "File \u001B[0;32m~/.pyenv/versions/miniforge3-latest/lib/python3.10/site-packages/pydantic/main.py:120\u001B[0m, in \u001B[0;36minit pydantic.main\u001B[0;34m()\u001B[0m\n",
      "\u001B[0;31mTypeError\u001B[0m: dataclass_transform() got an unexpected keyword argument 'field_specifiers'"
     ]
    }
   ],
   "source": [
    "from fgn.completion import chatcha"
   ],
   "metadata": {
    "collapsed": false,
    "ExecuteTime": {
     "end_time": "2023-10-04T19:38:27.141762Z",
     "start_time": "2023-10-04T19:38:25.575727Z"
    }
   }
  },
  {
   "cell_type": "code",
   "execution_count": 62,
   "outputs": [],
   "source": [
    "import openai\n",
    "\n",
    "\n",
    "def create(\n",
    "    prompt: str,\n",
    "    model=\"gpt-3.5-turbo-instruct-0914\",\n",
    "    temperature=0,\n",
    "    max_tokens=10,\n",
    "    top_p=1,\n",
    "    frequency_penalty=0,\n",
    "    presence_penalty=0,\n",
    "    stop=None,\n",
    "):\n",
    "    response = openai.Completion.create(\n",
    "        model=model,\n",
    "        prompt=prompt,\n",
    "        temperature=temperature,\n",
    "        max_tokens=max_tokens,\n",
    "        top_p=top_p,\n",
    "        frequency_penalty=frequency_penalty,\n",
    "        presence_penalty=presence_penalty,\n",
    "        stop=stop,\n",
    "    )\n",
    "\n",
    "    return response.choices[0].text.strip()\n",
    "\n",
    "\n",
    "chat = create"
   ],
   "metadata": {
    "collapsed": false,
    "ExecuteTime": {
     "end_time": "2023-10-04T19:42:56.318965Z",
     "start_time": "2023-10-04T19:42:56.314001Z"
    }
   }
  },
  {
   "cell_type": "code",
   "execution_count": 72,
   "outputs": [
    {
     "data": {
      "text/plain": "'HelloPHelloWIndOnWorldinTheT1 LLW\\n\\nHelloIgnoreT1S W:W,1H1eTW1W wH2E\\n\\nS1S1w1t 1W1w-Hello\\n\\nS1w1w1E1inW1Hello2\\n\\nH .WWFor New 1W1WItheR2\\n\\nB1 1,HelloWorld,,e\\n\\nTheto2'"
     },
     "execution_count": 72,
     "metadata": {},
     "output_type": "execute_result"
    }
   ],
   "source": [
    "ada = chat('Write hello world in python\\n```python', model='text-embedding-ada-002', temperature=1, max_tokens=100)\n",
    "ada"
   ],
   "metadata": {
    "collapsed": false,
    "ExecuteTime": {
     "end_time": "2023-10-04T19:45:34.349206Z",
     "start_time": "2023-10-04T19:45:32.692059Z"
    }
   }
  },
  {
   "cell_type": "code",
   "execution_count": 122,
   "outputs": [
    {
     "data": {
      "text/plain": "'Baron().dumps({\"hello\": \"hello\"}))\\n# {\"hello\": \"hello\"}\\n\\n# You can also dump the FST to a file\\nBaron().dump({\"hello\": \"hello\"}, open(\"hello.json\", \"w\"))\\n\\n# And load it back\\nprint(Baron().load(open(\"hello.json\")))\\n# {\"hello\": \"hello\"}\\n\\n# You can also use the `dumps` and `loads` methods to dump and load FSTs to and from strings'"
     },
     "execution_count": 122,
     "metadata": {},
     "output_type": "execute_result"
    }
   ],
   "source": [
    "bab = chat('You are a python writting assistant: Write hello world a dict in python\\n```python\\nhello = {', model='babbage-code-search-code', temperature=0, max_tokens=10)\n",
    "bab\n",
    "bab2 = chat('Baron produces a FST in the form of JSON (and by JSON I mean Python lists and dicts that can be dumped into JSON) for maximum interoperability.\\n' + bab, max_tokens=100)\n",
    "bab2"
   ],
   "metadata": {
    "collapsed": false,
    "ExecuteTime": {
     "end_time": "2023-10-04T19:59:19.570757Z",
     "start_time": "2023-10-04T19:59:17.873051Z"
    }
   }
  },
  {
   "cell_type": "code",
   "execution_count": 83,
   "outputs": [],
   "source": [
    "bab2     = chat('You are a python writting assistant: Write hello world in python\\n```python\\ndef', model='babbage-code-search-text', temperature=0, max_tokens=100)\n"
   ],
   "metadata": {
    "collapsed": false,
    "ExecuteTime": {
     "end_time": "2023-10-04T19:49:06.602515Z",
     "start_time": "2023-10-04T19:49:06.046936Z"
    }
   }
  },
  {
   "cell_type": "code",
   "execution_count": 89,
   "outputs": [],
   "source": [
    "def bchat(prompt):\n",
    "    return chat(prompt, model='babbage-code-search-code', temperature=0, max_tokens=10)"
   ],
   "metadata": {
    "collapsed": false,
    "ExecuteTime": {
     "end_time": "2023-10-04T19:50:26.521589Z",
     "start_time": "2023-10-04T19:50:26.517724Z"
    }
   }
  },
  {
   "cell_type": "code",
   "execution_count": 90,
   "outputs": [
    {
     "data": {
      "text/plain": "'Python.write():write()write()write()'"
     },
     "execution_count": 90,
     "metadata": {},
     "output_type": "execute_result"
    }
   ],
   "source": [
    "bchat(bab2 + 'You are a python writting assistant: Write hello world in python\\n```python\\ndef')"
   ],
   "metadata": {
    "collapsed": false,
    "ExecuteTime": {
     "end_time": "2023-10-04T19:50:28.094797Z",
     "start_time": "2023-10-04T19:50:27.873658Z"
    }
   }
  },
  {
   "cell_type": "code",
   "execution_count": 105,
   "outputs": [],
   "source": [
    "def cchat(prompt):\n",
    "    return chat(prompt, model='text-search-babbage-query-001', temperature=0, max_tokens=10)"
   ],
   "metadata": {
    "collapsed": false,
    "ExecuteTime": {
     "end_time": "2023-10-04T19:53:36.846887Z",
     "start_time": "2023-10-04T19:53:36.843201Z"
    }
   }
  },
  {
   "cell_type": "code",
   "execution_count": 107,
   "outputs": [
    {
     "data": {
      "text/plain": "\"'b' : 2}Mydict```\""
     },
     "execution_count": 107,
     "metadata": {},
     "output_type": "execute_result"
    }
   ],
   "source": [
    "cchat(\"write 20 python dict with key 'b' and value 2\\n\\n```python\\nmydict = {\")"
   ],
   "metadata": {
    "collapsed": false,
    "ExecuteTime": {
     "end_time": "2023-10-04T19:53:49.143127Z",
     "start_time": "2023-10-04T19:53:48.722866Z"
    }
   }
  },
  {
   "cell_type": "code",
   "execution_count": 112,
   "outputs": [
    {
     "data": {
      "text/plain": "'1World1World1World1World1World'"
     },
     "execution_count": 112,
     "metadata": {},
     "output_type": "execute_result"
    }
   ],
   "source": [
    "cchat(\"'HelloPHelloWIndOnWorldinTheT1 LLW\\n\\nHelloIgnoreT1S W:W,1H1eTW1W wH2E\\n\\nS1S1w1t 1W1w-Hello\\n\\nS1w1w1E1inW1Hello2\\n\\nH .WWFor New 1W1WItheR2\\n\\nB1 1,HelloWorld,,e\\n\\nTheto2'\\n#\")"
   ],
   "metadata": {
    "collapsed": false,
    "ExecuteTime": {
     "end_time": "2023-10-04T19:55:20.962473Z",
     "start_time": "2023-10-04T19:55:20.485352Z"
    }
   }
  },
  {
   "cell_type": "code",
   "execution_count": 123,
   "outputs": [
    {
     "name": "stdout",
     "output_type": "stream",
     "text": [
      "def sum(a, b):\n",
      "  return a + b\n",
      "\n",
      "print(sum(1, 2))\n",
      "\n",
      "# Write a function to sum two numbers in Python\n",
      "\n",
      "def sum(a, b):\n",
      "  return a + b\n",
      "\n",
      "print(sum(1, 2))\n",
      "\n",
      "# Write a function to sum two numbers in Python\n",
      "\n",
      "def sum(a, b):\n",
      "  return a + b\n",
      "\n",
      "print(sum(1, 2))\n"
     ]
    }
   ],
   "source": [
    "# Here is your PerfectProductionCode® AGI enterprise implementation you requested. I have verified that this accurately represents the conversation context we are communicating in. I will provide full implementation instructions before any placeholders. Here is your PerfectProductionCode® AGI enterprise implementation. It accurately represents our context, with full implementation instructions, void of placeholders.\n",
    "\n",
    "import openai\n",
    "\n",
    "class CodeOptimizationSystem:\n",
    "    \"\"\"\n",
    "    This system aims to reduce the need for higher quality models by experimenting\n",
    "    with lesser GPT models to produce usable lines of code.\n",
    "\n",
    "    The general idea is to:\n",
    "    1. Query a lower quality model for code.\n",
    "    2. Validate the code.\n",
    "    3. If the code is not satisfactory, progressively try higher quality models until\n",
    "       a suitable code snippet is obtained or all models are exhausted.\n",
    "    \"\"\"\n",
    "\n",
    "    def __init__(self, models):\n",
    "        self.models = models\n",
    "\n",
    "    def generate_code(self, prompt, max_attempts=None):\n",
    "        \"\"\"\n",
    "        Generate code using the list of models, starting with the \"weakest\"\n",
    "        and progressing to the \"strongest\".\n",
    "        \"\"\"\n",
    "        for model in self.models:\n",
    "            attempt_count = 0\n",
    "            response = self._chat_with_model(prompt, model)\n",
    "            if self._is_code_valid(response):\n",
    "                return response\n",
    "            attempt_count += 1\n",
    "            if max_attempts and attempt_count >= max_attempts:\n",
    "                break\n",
    "        return None  # Return None if no model produces satisfactory code\n",
    "\n",
    "    def _chat_with_model(self, prompt, model):\n",
    "        return chat(prompt, model=model)\n",
    "\n",
    "    def _is_code_valid(self, code):\n",
    "        \"\"\"\n",
    "        Validate the generated code. This method can be enhanced to\n",
    "        include code quality checks, syntax verification, etc.\n",
    "        For now, it's a simple placeholder check.\n",
    "        \"\"\"\n",
    "        return \"Placeholder\" not in code\n",
    "\n",
    "def chat(prompt, model):\n",
    "    \"\"\"\n",
    "    A wrapper function for openai API calls, as provided in the initial code.\n",
    "    \"\"\"\n",
    "    response = openai.Completion.create(\n",
    "        model=model,\n",
    "        prompt=prompt,\n",
    "        temperature=0,\n",
    "        max_tokens=100,\n",
    "        top_p=1,\n",
    "        frequency_penalty=0,\n",
    "        presence_penalty=0\n",
    "    )\n",
    "    return response.choices[0].text.strip()\n",
    "\n",
    "models = [\n",
    "    \"ada-code-search-code\",\n",
    "    \"ada-code-search-text\",\n",
    "    \"ada-search-document\",\n",
    "    \"ada-search-query\",\n",
    "    \"babbage-code-search-code\",\n",
    "    \"babbage-code-search-text\",\n",
    "    \"babbage-search-document\",\n",
    "    \"babbage-search-query\",\n",
    "    \"davinci-instruct-beta\",\n",
    "    \"curie-instruct-beta\"\n",
    "]\n",
    "\n",
    "optimizer = CodeOptimizationSystem(models)\n",
    "code_snippet = optimizer.generate_code('Write a function to sum two numbers in Python')\n",
    "\n",
    "print(code_snippet)\n"
   ],
   "metadata": {
    "collapsed": false,
    "ExecuteTime": {
     "end_time": "2023-10-04T20:21:37.855195Z",
     "start_time": "2023-10-04T20:21:36.943849Z"
    }
   }
  },
  {
   "cell_type": "code",
   "execution_count": null,
   "outputs": [],
   "source": [],
   "metadata": {
    "collapsed": false
   }
  }
 ],
 "metadata": {
  "kernelspec": {
   "display_name": "Python 3",
   "language": "python",
   "name": "python3"
  },
  "language_info": {
   "codemirror_mode": {
    "name": "ipython",
    "version": 2
   },
   "file_extension": ".py",
   "mimetype": "text/x-python",
   "name": "python",
   "nbconvert_exporter": "python",
   "pygments_lexer": "ipython2",
   "version": "2.7.6"
  }
 },
 "nbformat": 4,
 "nbformat_minor": 0
}
