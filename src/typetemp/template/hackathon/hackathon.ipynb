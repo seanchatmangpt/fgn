{
 "cells": [
  {
   "cell_type": "code",
   "execution_count": 66,
   "metadata": {
    "collapsed": true,
    "ExecuteTime": {
     "end_time": "2023-10-03T20:16:53.680408Z",
     "start_time": "2023-10-03T20:16:53.679153Z"
    }
   },
   "outputs": [],
   "source": [
    "import os\n",
    "import ast\n",
    "import importlib\n",
    "import importlib.util\n",
    "import sys\n",
    "\n",
    "\"\"\"\n",
    "DynamicModuleModifier allows you to interact with Python module files dynamically.\n",
    "\n",
    "Usage:\n",
    "1. Initialize an instance of DynamicModuleModifier to work with a Python module file.\n",
    "\n",
    "Example:\n",
    "```python\n",
    "modifier = DynamicModuleModifier('my_module.py', source='def my_function():\\n    pass')\n",
    "```\n",
    "\n",
    "2. Retrieve attributes (functions or classes) defined in the loaded module using the __getitem__ method.\n",
    "\n",
    "Example:\n",
    "```python\n",
    "my_function = modifier['my_function']\n",
    "```\n",
    "\n",
    "3. Replace or add attributes (functions or classes) in the module using the __setitem__ method.\n",
    "\n",
    "Example:\n",
    "```python\n",
    "modifier['my_function'] = 'def my_function():\\n    print(\"Hello, world!\")'\n",
    "```\n",
    "\n",
    "4. Replace the entire content of the module with new code using the replace_module_content method.\n",
    "\n",
    "Example:\n",
    "```python\n",
    "new_code = 'def new_function():\\n    print(\"This is the new function.\")'\n",
    "modifier.replace_module_content(new_code)\n",
    "```\n",
    "\"\"\"\n",
    "\n",
    "\n",
    "class DynamicModuleModifier:\n",
    "    def __init__(self, filepath, source=None):\n",
    "        self.filepath = filepath\n",
    "        self._ensure_module_exists(source)\n",
    "        self.module = self._load_module()\n",
    "\n",
    "    def _ensure_module_exists(self, source):\n",
    "        if not os.path.exists(self.filepath):\n",
    "            with open(self.filepath, \"w\") as f:\n",
    "                if source:\n",
    "                    f.write(source)\n",
    "                else:\n",
    "                    f.write(\"# Auto-generated module\\n\")\n",
    "\n",
    "    def __getitem__(self, key):\n",
    "        return getattr(self.module, key)\n",
    "\n",
    "    def __setitem__(self, key, new_item):\n",
    "        # Read the existing code\n",
    "        with open(self.filepath, \"r\") as f:\n",
    "            old_code = f.read()\n",
    "        old_ast = ast.parse(old_code)\n",
    "\n",
    "        # Convert string to AST if necessary\n",
    "        if isinstance(new_item, str):\n",
    "            new_item_ast = ast.parse(new_item).body[0]\n",
    "        else:\n",
    "            new_item_ast = new_item\n",
    "\n",
    "        # Determine whether to replace an existing item or add a new one\n",
    "        if isinstance(new_item_ast, (ast.FunctionDef, ast.AsyncFunctionDef)):\n",
    "            existing_indices = [\n",
    "                i\n",
    "                for i, node in enumerate(old_ast.body)\n",
    "                if isinstance(node, (ast.FunctionDef, ast.AsyncFunctionDef))\n",
    "                and node.name == key\n",
    "            ]\n",
    "        elif isinstance(new_item_ast, ast.ClassDef):\n",
    "            existing_indices = [\n",
    "                i\n",
    "                for i, node in enumerate(old_ast.body)\n",
    "                if isinstance(node, ast.ClassDef) and node.name == key\n",
    "            ]\n",
    "        else:\n",
    "            raise ValueError(\"The new item must be a function or class definition.\")\n",
    "\n",
    "        if existing_indices:\n",
    "            # Replace existing\n",
    "            old_ast.body[existing_indices[0]] = new_item_ast\n",
    "        else:\n",
    "            # Add new\n",
    "            old_ast.body.append(new_item_ast)\n",
    "\n",
    "        # Compile and execute the modified AST to update the module\n",
    "        new_code = compile(old_ast, filename=self.filepath, mode=\"exec\")\n",
    "        exec(new_code, self.module.__dict__)\n",
    "\n",
    "        # Write back the modified code to the file\n",
    "        with open(self.filepath, \"w\") as f:\n",
    "            f.write(ast.unparse(old_ast))\n",
    "\n",
    "    def _load_module(self):\n",
    "        module_name = self.filepath.replace(\".py\", \"\")\n",
    "        if module_name in sys.modules:\n",
    "            del sys.modules[module_name]\n",
    "\n",
    "        spec = importlib.util.spec_from_file_location(module_name, self.filepath)\n",
    "        module = importlib.util.module_from_spec(spec)\n",
    "        spec.loader.exec_module(module)\n",
    "        return module\n",
    "\n",
    "    def replace_module_content(self, new_content):\n",
    "        with open(self.filepath, \"w\") as f:\n",
    "            f.write(new_content)\n",
    "        self.module = self._load_module()"
   ]
  },
  {
   "cell_type": "code",
   "execution_count": 67,
   "outputs": [
    {
     "name": "stdout",
     "output_type": "stream",
     "text": [
      "This is the docstring for my_function.\n",
      "This is the modified docstring.\n"
     ]
    }
   ],
   "source": [
    "# test_code.py\n",
    "\n",
    "# Create the initial module file\n",
    "with open(\"my_module.py\", \"w\") as f:\n",
    "    f.write(\n",
    "        '''\n",
    "def my_function(x):\n",
    "    \"\"\"This is the docstring for my_function.\"\"\"\n",
    "    return x * 2\n",
    "'''\n",
    "    )\n",
    "\n",
    "# Initialize the DynamicModuleModifier\n",
    "module_modifier = DynamicModuleModifier(\"my_module.py\")\n",
    "\n",
    "# Test original function\n",
    "my_function = module_modifier[\"my_function\"]\n",
    "assert my_function(5) == 10\n",
    "assert my_function.__doc__ == \"This is the docstring for my_function.\"\n",
    "print(my_function.__doc__)\n",
    "\n",
    "# Modify the function using new AST\n",
    "new_function_ast = ast.parse(\n",
    "    '''\n",
    "def my_function(x):\n",
    "    \"\"\"This is the modified docstring.\"\"\"\n",
    "    return x * 3\n",
    "'''\n",
    ").body[0]\n",
    "\n",
    "module_modifier[\"my_function\"] = new_function_ast\n",
    "\n",
    "# Reload the module and test again\n",
    "module_modifier = DynamicModuleModifier(\"my_module.py\")\n",
    "my_function = module_modifier[\"my_function\"]\n",
    "assert my_function(5) == 15\n",
    "assert my_function.__doc__ == \"This is the modified docstring.\"\n",
    "print(my_function.__doc__)\n",
    "\n",
    "\n",
    "# Replace the entire module content and test\n",
    "new_module_content = '''\n",
    "def another_function(y):\n",
    "    \"\"\"New function after replacing module.\"\"\"\n",
    "    return y ** 2\n",
    "'''\n",
    "module_modifier.replace_module_content(new_module_content)\n",
    "\n",
    "# Reload the module and test the new function\n",
    "module_modifier = DynamicModuleModifier(\"my_module.py\")\n",
    "another_function = module_modifier[\"another_function\"]\n",
    "assert another_function(4) == 16\n",
    "assert another_function.__doc__ == \"New function after replacing module.\"\n",
    "\n",
    "\n",
    "new_class = '''\n",
    "class MyClass:\n",
    "    \"\"\"This is the docstring for MyClass.\"\"\"\n",
    "    def __init__(self, x):\n",
    "        \"\"\"This is the docstring for __init__.\"\"\"\n",
    "        self.x = x\n",
    "\n",
    "    def my_method(self, y):\n",
    "        \"\"\"This is the docstring for my_method.\"\"\"\n",
    "        return self.x + y\n",
    "'''\n",
    "module_modifier[\"MyClass\"] = new_class"
   ],
   "metadata": {
    "collapsed": false,
    "ExecuteTime": {
     "end_time": "2023-10-03T20:16:53.866552Z",
     "start_time": "2023-10-03T20:16:53.859508Z"
    }
   }
  },
  {
   "cell_type": "code",
   "execution_count": 39,
   "outputs": [
    {
     "name": "stdout",
     "output_type": "stream",
     "text": [
      "\n",
      "def another_function(y):\n",
      "    \"\"\"New function after replacing module.\"\"\"\n",
      "    return y ** 2\n",
      "\n"
     ]
    }
   ],
   "source": [
    "# print my_module.py\n",
    "print(open(\"my_module.py\").read())"
   ],
   "metadata": {
    "collapsed": false,
    "ExecuteTime": {
     "end_time": "2023-10-03T19:46:38.173003Z",
     "start_time": "2023-10-03T19:46:38.165015Z"
    }
   }
  },
  {
   "cell_type": "code",
   "execution_count": 40,
   "outputs": [
    {
     "data": {
      "text/plain": "16"
     },
     "execution_count": 40,
     "metadata": {},
     "output_type": "execute_result"
    }
   ],
   "source": [
    "mm = module_modifier\n",
    "mm.module\n",
    "\n",
    "# show mm.module contents without using the file\n",
    "mm.module.another_function(4)"
   ],
   "metadata": {
    "collapsed": false,
    "ExecuteTime": {
     "end_time": "2023-10-03T19:46:45.348220Z",
     "start_time": "2023-10-03T19:46:45.341363Z"
    }
   }
  },
  {
   "cell_type": "code",
   "execution_count": 43,
   "outputs": [
    {
     "data": {
      "text/plain": "<module 'new_module' from '/Users/candacechatman/new_module.py'>"
     },
     "execution_count": 43,
     "metadata": {},
     "output_type": "execute_result"
    }
   ],
   "source": [
    "dmm = DynamicModuleModifier\n",
    "initial_source = '''\n",
    "def my_function(x):\n",
    "    \"\"\"This is the docstring for my_function.\"\"\"\n",
    "    return x * 2\n",
    "'''\n",
    "mm = dmm(\"new_module.py\", initial_source)\n",
    "mm.module"
   ],
   "metadata": {
    "collapsed": false,
    "ExecuteTime": {
     "end_time": "2023-10-03T19:48:00.704503Z",
     "start_time": "2023-10-03T19:48:00.677454Z"
    }
   }
  },
  {
   "cell_type": "code",
   "execution_count": 59,
   "outputs": [
    {
     "ename": "AssertionError",
     "evalue": "Module should have load_schema",
     "output_type": "error",
     "traceback": [
      "\u001B[0;31m---------------------------------------------------------------------------\u001B[0m",
      "\u001B[0;31mAssertionError\u001B[0m                            Traceback (most recent call last)",
      "Cell \u001B[0;32mIn[59], line 30\u001B[0m\n\u001B[1;32m     28\u001B[0m load_schema_ast \u001B[38;5;241m=\u001B[39m ast\u001B[38;5;241m.\u001B[39mparse(load_schema_code)\u001B[38;5;241m.\u001B[39mbody[\u001B[38;5;241m0\u001B[39m]\n\u001B[1;32m     29\u001B[0m dmm[\u001B[38;5;124m'\u001B[39m\u001B[38;5;124mload_schema\u001B[39m\u001B[38;5;124m'\u001B[39m] \u001B[38;5;241m=\u001B[39m load_schema_ast\n\u001B[0;32m---> 30\u001B[0m \u001B[38;5;28;01massert\u001B[39;00m \u001B[38;5;28mhasattr\u001B[39m(dmm\u001B[38;5;241m.\u001B[39mmodule, \u001B[38;5;124m'\u001B[39m\u001B[38;5;124mload_schema\u001B[39m\u001B[38;5;124m'\u001B[39m), \u001B[38;5;124m\"\u001B[39m\u001B[38;5;124mModule should have load_schema\u001B[39m\u001B[38;5;124m\"\u001B[39m\n\u001B[1;32m     32\u001B[0m \u001B[38;5;66;03m# Add another function and verify\u001B[39;00m\n\u001B[1;32m     33\u001B[0m save_schema_code \u001B[38;5;241m=\u001B[39m \u001B[38;5;124m'''\u001B[39m\n\u001B[1;32m     34\u001B[0m \u001B[38;5;124mdef save_schema(schema: dict, file_path: str = \u001B[39m\u001B[38;5;124m'\u001B[39m\u001B[38;5;124mbounded_context.yaml\u001B[39m\u001B[38;5;124m'\u001B[39m\u001B[38;5;124m) -> None:\u001B[39m\n\u001B[1;32m     35\u001B[0m \u001B[38;5;124m    with open(file_path, \u001B[39m\u001B[38;5;124m'\u001B[39m\u001B[38;5;124mw\u001B[39m\u001B[38;5;124m'\u001B[39m\u001B[38;5;124m) as file:\u001B[39m\n\u001B[1;32m     36\u001B[0m \u001B[38;5;124m        yaml.safe_dump(schema, file)\u001B[39m\n\u001B[1;32m     37\u001B[0m \u001B[38;5;124m'''\u001B[39m\n",
      "\u001B[0;31mAssertionError\u001B[0m: Module should have load_schema"
     ]
    }
   ],
   "source": [
    "# Initialize DynamicModuleModifier and test to ensure correct behavior\n",
    "dmm = DynamicModuleModifier(\"AgentSystem.py\")\n",
    "assert (\n",
    "    hasattr(dmm.module, \"argparse\") == False\n",
    "), \"Initial module should not have argparse\"\n",
    "\n",
    "# Define our initial source code, ensuring its existence and load into our DynamicModuleModifier\n",
    "initial_source = \"\"\"\n",
    "import argparse\n",
    "import openai\n",
    "import yaml\n",
    "import os\n",
    "import time\n",
    "import json\n",
    "from typing import List\n",
    "import re\n",
    "\"\"\"\n",
    "\n",
    "dmm.replace_module_content(initial_source)\n",
    "assert hasattr(\n",
    "    dmm.module, \"argparse\"\n",
    "), \"Module should have argparse after initial source\"\n",
    "\n",
    "# Add more code to the module and verify\n",
    "load_schema_code = \"\"\"\n",
    "def load_schema(file_path: str = 'bounded_context.yaml') -> dict:\n",
    "    if os.path.exists(file_path):\n",
    "        with open(file_path, 'r') as file:\n",
    "            return yaml.safe_load(file)\n",
    "    return {}\n",
    "\"\"\"\n",
    "load_schema_ast = ast.parse(load_schema_code).body[0]\n",
    "dmm[\"load_schema\"] = load_schema_ast\n",
    "assert hasattr(dmm.module, \"load_schema\"), \"Module should have load_schema\"\n",
    "\n",
    "# Add another function and verify\n",
    "save_schema_code = \"\"\"\n",
    "def save_schema(schema: dict, file_path: str = 'bounded_context.yaml') -> None:\n",
    "    with open(file_path, 'w') as file:\n",
    "        yaml.safe_dump(schema, file)\n",
    "\"\"\"\n",
    "save_schema_ast = ast.parse(save_schema_code).body[0]\n",
    "dmm[\"save_schema\"] = save_schema_ast\n",
    "assert hasattr(dmm.module, \"save_schema\"), \"Module should have save_schema\"\n",
    "\n",
    "# Add the closed-loop agent system and verify\n",
    "closed_loop_agent_system_code = \"\"\"\n",
    "def closed_loop_agent_system(num_iterations: int, delay: int) -> None:\n",
    "    schema = load_schema()\n",
    "    for _ in range(num_iterations):\n",
    "        time.sleep(delay)\n",
    "\"\"\"\n",
    "\n",
    "closed_loop_agent_system_ast = ast.parse(closed_loop_agent_system_code).body[0]\n",
    "dmm[\"closed_loop_agent_system\"] = closed_loop_agent_system_ast\n",
    "assert hasattr(\n",
    "    dmm.module, \"closed_loop_agent_system\"\n",
    "), \"Module should have closed_loop_agent_system\"\n",
    "\n",
    "# Verify the module code is as expected\n",
    "with open(\"AgentSystem.py\", \"r\") as f:\n",
    "    code = f.read()\n",
    "\n",
    "assert \"argparse\" in code, \"The code must contain argparse\"\n",
    "assert \"load_schema\" in code, \"The code must contain load_schema\"\n",
    "assert \"save_schema\" in code, \"The code must contain save_schema\"\n",
    "assert (\n",
    "    \"closed_loop_agent_system\" in code\n",
    "), \"The code must contain closed_loop_agent_system\"\n",
    "\n",
    "print(\"All assertions passed. AgentSystem.py has been successfully modified.\")"
   ],
   "metadata": {
    "collapsed": false,
    "ExecuteTime": {
     "end_time": "2023-10-03T20:06:40.612840Z",
     "start_time": "2023-10-03T20:06:40.575712Z"
    }
   }
  },
  {
   "cell_type": "code",
   "execution_count": 53,
   "outputs": [
    {
     "ename": "SystemExit",
     "evalue": "2",
     "output_type": "error",
     "traceback": [
      "\u001B[0;31m---------------------------------------------------------------------------\u001B[0m",
      "\u001B[0;31mSystemExit\u001B[0m                                Traceback (most recent call last)",
      "Cell \u001B[0;32mIn[52], line 26\u001B[0m\n\u001B[1;32m      7\u001B[0m \u001B[38;5;66;03m# Define our initial source code, ensuring its existence and load into our DynamicModuleModifier\u001B[39;00m\n\u001B[1;32m      8\u001B[0m initial_source \u001B[38;5;241m=\u001B[39m \u001B[38;5;124m'''\u001B[39m\n\u001B[1;32m      9\u001B[0m \u001B[38;5;124mimport argparse\u001B[39m\n\u001B[1;32m     10\u001B[0m \u001B[38;5;124mimport openai\u001B[39m\n\u001B[0;32m   (...)\u001B[0m\n\u001B[1;32m     23\u001B[0m \u001B[38;5;124margs = parser.parse_args()\u001B[39m\n\u001B[1;32m     24\u001B[0m \u001B[38;5;124m'''\u001B[39m\n\u001B[0;32m---> 26\u001B[0m \u001B[43mdmm\u001B[49m\u001B[38;5;241;43m.\u001B[39;49m\u001B[43mreplace_module_content\u001B[49m\u001B[43m(\u001B[49m\u001B[43minitial_source\u001B[49m\u001B[43m)\u001B[49m\n\u001B[1;32m     28\u001B[0m \u001B[38;5;66;03m# Load schema from disk securely\u001B[39;00m\n\u001B[1;32m     29\u001B[0m load_schema_code \u001B[38;5;241m=\u001B[39m \u001B[38;5;124m'''\u001B[39m\n\u001B[1;32m     30\u001B[0m \u001B[38;5;124mdef load_schema(file_path: str = \u001B[39m\u001B[38;5;124m'\u001B[39m\u001B[38;5;124mbounded_context.yaml\u001B[39m\u001B[38;5;124m'\u001B[39m\u001B[38;5;124m) -> dict:\u001B[39m\n\u001B[1;32m     31\u001B[0m \u001B[38;5;124m    if os.path.exists(file_path):\u001B[39m\n\u001B[0;32m   (...)\u001B[0m\n\u001B[1;32m     34\u001B[0m \u001B[38;5;124m    return \u001B[39m\u001B[38;5;132;01m{}\u001B[39;00m\n\u001B[1;32m     35\u001B[0m \u001B[38;5;124m'''\u001B[39m\n",
      "Cell \u001B[0;32mIn[37], line 55\u001B[0m, in \u001B[0;36mDynamicModuleModifier.replace_module_content\u001B[0;34m(self, new_content)\u001B[0m\n\u001B[1;32m     53\u001B[0m \u001B[38;5;28;01mwith\u001B[39;00m \u001B[38;5;28mopen\u001B[39m(\u001B[38;5;28mself\u001B[39m\u001B[38;5;241m.\u001B[39mfilepath, \u001B[38;5;124m'\u001B[39m\u001B[38;5;124mw\u001B[39m\u001B[38;5;124m'\u001B[39m) \u001B[38;5;28;01mas\u001B[39;00m f:\n\u001B[1;32m     54\u001B[0m     f\u001B[38;5;241m.\u001B[39mwrite(new_content)\n\u001B[0;32m---> 55\u001B[0m \u001B[38;5;28mself\u001B[39m\u001B[38;5;241m.\u001B[39mmodule \u001B[38;5;241m=\u001B[39m \u001B[38;5;28;43mself\u001B[39;49m\u001B[38;5;241;43m.\u001B[39;49m\u001B[43m_load_module\u001B[49m\u001B[43m(\u001B[49m\u001B[43m)\u001B[49m\n",
      "Cell \u001B[0;32mIn[37], line 49\u001B[0m, in \u001B[0;36mDynamicModuleModifier._load_module\u001B[0;34m(self)\u001B[0m\n\u001B[1;32m     47\u001B[0m spec \u001B[38;5;241m=\u001B[39m importlib\u001B[38;5;241m.\u001B[39mutil\u001B[38;5;241m.\u001B[39mspec_from_file_location(module_name, \u001B[38;5;28mself\u001B[39m\u001B[38;5;241m.\u001B[39mfilepath)\n\u001B[1;32m     48\u001B[0m module \u001B[38;5;241m=\u001B[39m importlib\u001B[38;5;241m.\u001B[39mutil\u001B[38;5;241m.\u001B[39mmodule_from_spec(spec)\n\u001B[0;32m---> 49\u001B[0m \u001B[43mspec\u001B[49m\u001B[38;5;241;43m.\u001B[39;49m\u001B[43mloader\u001B[49m\u001B[38;5;241;43m.\u001B[39;49m\u001B[43mexec_module\u001B[49m\u001B[43m(\u001B[49m\u001B[43mmodule\u001B[49m\u001B[43m)\u001B[49m\n\u001B[1;32m     50\u001B[0m \u001B[38;5;28;01mreturn\u001B[39;00m module\n",
      "File \u001B[0;32m<frozen importlib._bootstrap_external>:883\u001B[0m, in \u001B[0;36mexec_module\u001B[0;34m(self, module)\u001B[0m\n",
      "File \u001B[0;32m<frozen importlib._bootstrap>:241\u001B[0m, in \u001B[0;36m_call_with_frames_removed\u001B[0;34m(f, *args, **kwds)\u001B[0m\n",
      "File \u001B[0;32m~/AgentSystem.py:16\u001B[0m\n\u001B[1;32m     14\u001B[0m parser\u001B[38;5;241m.\u001B[39madd_argument(\u001B[38;5;124m\"\u001B[39m\u001B[38;5;124m--delay\u001B[39m\u001B[38;5;124m\"\u001B[39m, \u001B[38;5;28mtype\u001B[39m\u001B[38;5;241m=\u001B[39m\u001B[38;5;28mint\u001B[39m, default\u001B[38;5;241m=\u001B[39m\u001B[38;5;241m2\u001B[39m, help\u001B[38;5;241m=\u001B[39m\u001B[38;5;124m\"\u001B[39m\u001B[38;5;124mDelay between iterations in seconds.\u001B[39m\u001B[38;5;124m\"\u001B[39m)\n\u001B[1;32m     15\u001B[0m parser\u001B[38;5;241m.\u001B[39madd_argument(\u001B[38;5;124m\"\u001B[39m\u001B[38;5;124m--requirements\u001B[39m\u001B[38;5;124m\"\u001B[39m, \u001B[38;5;28mtype\u001B[39m\u001B[38;5;241m=\u001B[39m\u001B[38;5;28mstr\u001B[39m, help\u001B[38;5;241m=\u001B[39m\u001B[38;5;124m\"\u001B[39m\u001B[38;5;124mUser requirements for the system.\u001B[39m\u001B[38;5;124m\"\u001B[39m)\n\u001B[0;32m---> 16\u001B[0m args \u001B[38;5;241m=\u001B[39m \u001B[43mparser\u001B[49m\u001B[38;5;241;43m.\u001B[39;49m\u001B[43mparse_args\u001B[49m\u001B[43m(\u001B[49m\u001B[43m)\u001B[49m\n",
      "File \u001B[0;32m~/.pyenv/versions/miniforge3-latest/lib/python3.10/argparse.py:1836\u001B[0m, in \u001B[0;36mArgumentParser.parse_args\u001B[0;34m(self, args, namespace)\u001B[0m\n\u001B[1;32m   1834\u001B[0m \u001B[38;5;28;01mif\u001B[39;00m argv:\n\u001B[1;32m   1835\u001B[0m     msg \u001B[38;5;241m=\u001B[39m _(\u001B[38;5;124m'\u001B[39m\u001B[38;5;124munrecognized arguments: \u001B[39m\u001B[38;5;132;01m%s\u001B[39;00m\u001B[38;5;124m'\u001B[39m)\n\u001B[0;32m-> 1836\u001B[0m     \u001B[38;5;28;43mself\u001B[39;49m\u001B[38;5;241;43m.\u001B[39;49m\u001B[43merror\u001B[49m\u001B[43m(\u001B[49m\u001B[43mmsg\u001B[49m\u001B[43m \u001B[49m\u001B[38;5;241;43m%\u001B[39;49m\u001B[43m \u001B[49m\u001B[38;5;124;43m'\u001B[39;49m\u001B[38;5;124;43m \u001B[39;49m\u001B[38;5;124;43m'\u001B[39;49m\u001B[38;5;241;43m.\u001B[39;49m\u001B[43mjoin\u001B[49m\u001B[43m(\u001B[49m\u001B[43margv\u001B[49m\u001B[43m)\u001B[49m\u001B[43m)\u001B[49m\n\u001B[1;32m   1837\u001B[0m \u001B[38;5;28;01mreturn\u001B[39;00m args\n",
      "File \u001B[0;32m~/.pyenv/versions/miniforge3-latest/lib/python3.10/argparse.py:2594\u001B[0m, in \u001B[0;36mArgumentParser.error\u001B[0;34m(self, message)\u001B[0m\n\u001B[1;32m   2592\u001B[0m \u001B[38;5;28mself\u001B[39m\u001B[38;5;241m.\u001B[39mprint_usage(_sys\u001B[38;5;241m.\u001B[39mstderr)\n\u001B[1;32m   2593\u001B[0m args \u001B[38;5;241m=\u001B[39m {\u001B[38;5;124m'\u001B[39m\u001B[38;5;124mprog\u001B[39m\u001B[38;5;124m'\u001B[39m: \u001B[38;5;28mself\u001B[39m\u001B[38;5;241m.\u001B[39mprog, \u001B[38;5;124m'\u001B[39m\u001B[38;5;124mmessage\u001B[39m\u001B[38;5;124m'\u001B[39m: message}\n\u001B[0;32m-> 2594\u001B[0m \u001B[38;5;28;43mself\u001B[39;49m\u001B[38;5;241;43m.\u001B[39;49m\u001B[43mexit\u001B[49m\u001B[43m(\u001B[49m\u001B[38;5;241;43m2\u001B[39;49m\u001B[43m,\u001B[49m\u001B[43m \u001B[49m\u001B[43m_\u001B[49m\u001B[43m(\u001B[49m\u001B[38;5;124;43m'\u001B[39;49m\u001B[38;5;132;43;01m%(prog)s\u001B[39;49;00m\u001B[38;5;124;43m: error: \u001B[39;49m\u001B[38;5;132;43;01m%(message)s\u001B[39;49;00m\u001B[38;5;130;43;01m\\n\u001B[39;49;00m\u001B[38;5;124;43m'\u001B[39;49m\u001B[43m)\u001B[49m\u001B[43m \u001B[49m\u001B[38;5;241;43m%\u001B[39;49m\u001B[43m \u001B[49m\u001B[43margs\u001B[49m\u001B[43m)\u001B[49m\n",
      "File \u001B[0;32m~/.pyenv/versions/miniforge3-latest/lib/python3.10/argparse.py:2581\u001B[0m, in \u001B[0;36mArgumentParser.exit\u001B[0;34m(self, status, message)\u001B[0m\n\u001B[1;32m   2579\u001B[0m \u001B[38;5;28;01mif\u001B[39;00m message:\n\u001B[1;32m   2580\u001B[0m     \u001B[38;5;28mself\u001B[39m\u001B[38;5;241m.\u001B[39m_print_message(message, _sys\u001B[38;5;241m.\u001B[39mstderr)\n\u001B[0;32m-> 2581\u001B[0m \u001B[43m_sys\u001B[49m\u001B[38;5;241;43m.\u001B[39;49m\u001B[43mexit\u001B[49m\u001B[43m(\u001B[49m\u001B[43mstatus\u001B[49m\u001B[43m)\u001B[49m\n",
      "\u001B[0;31mSystemExit\u001B[0m: 2"
     ]
    }
   ],
   "source": [
    "%tb"
   ],
   "metadata": {
    "collapsed": false,
    "ExecuteTime": {
     "end_time": "2023-10-03T19:56:31.696876Z",
     "start_time": "2023-10-03T19:56:31.331629Z"
    }
   }
  },
  {
   "cell_type": "code",
   "execution_count": null,
   "outputs": [],
   "source": [],
   "metadata": {
    "collapsed": false
   }
  }
 ],
 "metadata": {
  "kernelspec": {
   "display_name": "Python 3",
   "language": "python",
   "name": "python3"
  },
  "language_info": {
   "codemirror_mode": {
    "name": "ipython",
    "version": 2
   },
   "file_extension": ".py",
   "mimetype": "text/x-python",
   "name": "python",
   "nbconvert_exporter": "python",
   "pygments_lexer": "ipython2",
   "version": "2.7.6"
  }
 },
 "nbformat": 4,
 "nbformat_minor": 0
}
